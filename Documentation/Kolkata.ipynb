{
 "cells": [
  {
   "cell_type": "markdown",
   "metadata": {},
   "source": [
    "# Data Wrangling | Kolkata OpenStreetMap\n",
    "<hr>"
   ]
  },
  {
   "cell_type": "markdown",
   "metadata": {},
   "source": [
    "## 1. Introduction"
   ]
  },
  {
   "cell_type": "markdown",
   "metadata": {},
   "source": [
    "<br><center>\"<b><i>It’s an absolute myth that you can send an algorithm over raw data and have insights pop up.</i></b>\"</center><br>\n",
    "\n",
    "The foremost and important step of the data preparation task that deals with correcting inconsistent data is filling out missing values and smoothing out noisy data. There could be many rows in the dataset that do not have value for attributes of interest or there could be inconsistent data or duplicate records or some other random error. All these data quality issues are tackled in the foremost step of data preparation.\n",
    "\n",
    "Data from sensors, documents, the web and conventional databases all come in different formats. Before a software algorithm can go looking for answers, the data must be cleaned up and converted into an unified form that the algorithm can understand.\n",
    "\n",
    "Missing values are tackled in various ways depending on the requirement either by ignoring the tuple or filling in the missing value with the mean value of the attribute or using a global constant or some other techniques like decision tree or Bayesian formula. Noisy data is tackled manually or through various regression or clustering techniques.\n",
    "\n",
    "In this project we aim to look into the data wrangling phase by cleaning the OpenStreetMap data of the city of joy, Kolkata."
   ]
  },
  {
   "cell_type": "markdown",
   "metadata": {},
   "source": [
    "## 2. Familiarization with the dataset"
   ]
  },
  {
   "cell_type": "markdown",
   "metadata": {},
   "source": [
    "* We need to extract a region from [OpenStreetMaps](https://www.openstreetmap.org). It will be great if I choose my home-city, Kolkata to implement Data Wrangling. \n",
    "\n",
    "* We start by downloading the [OSM XML](https://s3.amazonaws.com/metro-extracts.mapzen.com/kolkata_india.osm.bz2) of Kolkata from [Metro Extracts | Mapzen](https://mapzen.com/data/metro-extracts/metro/kolkata_india/).\n",
    "\n",
    "* However we can see that the popular extract for this city also includes part of Bangladesh, which is undesirable. So, I made a [Custom Extact](https://mapzen.com/data/metro-extracts/your-extracts/320cb2360f25) which can be accessed if you have a Mapzen Developer's Account.\n",
    "\n",
    "* The file becomes 680.5 MB on uncompressing with a total of 8870629 lines in the XML. Before we start exploring, let us get used to the structure of the XML. [The wiki of OSM](http://wiki.openstreetmap.org/wiki/OSM_XML) suggests that they use three data primitives <b>node</b>, <b>way</b> and <b>relation</b>.\n",
    "\n",
    "* **Node**: It consists of a single point in space defined by its **latitude**, **longitude** and **node id**. Nodes can define it's own features using **tag** and its attributes **k**(key) and **v**(value). Here's a [guide](http://wiki.openstreetmap.org/wiki/Map_Features) to all possible key-value pairs. Let's see an [example](https://www.openstreetmap.org/node/3409030014) of this kind of nodes.\n",
    "```css\n",
    "<node id=\"3409030014\" visible=\"true\" version=\"2\" changeset=\"49141539\" timestamp=\"2017-05-31T17:00:28Z\" user=\"Srihari Thalla\" uid=\"2815653\" lat=\"22.5194936\" lon=\"88.3772832\">\n",
    "<tag k=\"amenity\" v=\"bank\"/>\n",
    "<tag k=\"brand\" v=\"ICICI\"/>\n",
    "...\n",
    "<tag k=\"website\" v=\"https://www.icicibank.com\"/>\n",
    "<tag k=\"wikipedia\" v=\"en:ICICI Bank\"/>\n",
    "</node>\n",
    "``` \n",
    "Nodes can also be without any tags. This means they are points used for creating shape of a **way**. Here's an [example](https://www.openstreetmap.org/node/419272549) of a node that is used in a way.\n",
    "```css\n",
    " <node id=\"419272549\" visible=\"true\" version=\"1\" changeset=\"1498157\" timestamp=\"2009-06-12T17:57:15Z\" user=\"thevikas\" uid=\"17429\" lat=\"22.4975510\" lon=\"88.3743585\"/>\n",
    "```\n",
    "* **Way**: A way is an ordered list of nodes which normally also has at least one tag or is included within a Relation. A way can have between 2 and 2,000 nodes, *although it's possible that faulty ways with zero or a single node exist*. \n",
    "    * Ways can [have](https://www.openstreetmap.org/way/120004528) or [not have](https://www.openstreetmap.org/way/120004531) a name.\n",
    "    * Ways maybe [open](https://www.openstreetmap.org/way/120004544) or [closed](https://www.openstreetmap.org/way/120004545). Open ways generally mean a road and the start node and end node varies. Closed ways mean a [bounded polygon](http://www.openstreetmap.org/way/357985873#map=19/22.65737/88.49060).\n",
    "    \n",
    "\n",
    "* **Relation**: It is an ordered list of one or more nodes, ways and/or relations as members which is used to define [logical or geographic](https://www.openstreetmap.org/relation/5341780) relationships between other elements. An example of a [v9 bus route]() is like,\n",
    "```css\n",
    "<relation id=\"4147368\" visible=\"true\" version=\"7\" changeset=\"43126343\" timestamp=\"2016-10-24T15:18:55Z\" user=\"ediyes\" uid=\"1240849\">\n",
    "    <member type=\"node\" ref=\"3157361872\" role=\"stop\"/>\n",
    "    <member type=\"node\" ref=\"2211350535\" role=\"stop\"/>\n",
    "    ...\n",
    "    <tag k=\"ref\" v=\"V9\"/>\n",
    "    <tag k=\"route\" v=\"bus\"/>\n",
    "    ...\n",
    "</relation>\n",
    "    ```"
   ]
  },
  {
   "cell_type": "markdown",
   "metadata": {},
   "source": [
    "## 3. Parsing the OSM XML"
   ]
  },
  {
   "cell_type": "markdown",
   "metadata": {},
   "source": [
    "Let us use the ***map_parser.py*** to parse the XML file. It will give us a general idea of the available tags along with their count. I have re-arranged the actual output for a better understanding."
   ]
  },
  {
   "cell_type": "code",
   "execution_count": null,
   "metadata": {
    "collapsed": true
   },
   "outputs": [],
   "source": [
    "{'node': 3100069,    # total count of nodes with (stand-alone) and without (for ways) point features\n",
    " 'way': 640011       # total number of ways\n",
    " 'nd': 3767632,      # total nodes participated in creation of ways\n",
    " 'relation': 1247,   # total number of relations to identify a demographic or logical relationj\n",
    " 'member': 5271,     # total number of ways taking part in a relation\n",
    " 'tag': 699513}      # total number of tags used for describing point features"
   ]
  },
  {
   "cell_type": "markdown",
   "metadata": {},
   "source": [
    "> **Observation**: We can do a simple math to find the number of stand-alone nodes. \n",
    "\n",
    ">$node - nd = 3100069 - 3767632 = −667563$\n",
    "\n",
    ">We can conclude that there are many points which are repeated (for bounded areas) or they are a part of more than one ways."
   ]
  },
  {
   "cell_type": "markdown",
   "metadata": {},
   "source": [
    "## 4. Auditing \"tag\" Keys"
   ]
  },
  {
   "cell_type": "markdown",
   "metadata": {},
   "source": [
    "**Tag**s describe specific features of map elements (nodes, ways, or relations) or changesets. Both items are free format text fields, but often represent numeric or other structured items. Conventions are agreed on the meaning and use of tags, which are captured on OSM wiki.\n",
    "\n",
    "\n",
    "### 4.1 Finding Unique \"tag\" Keys\n",
    "\n",
    "Now we are interested with the **keys of tag**s of the **node**s, **way**s and **relation**s. So, let's see what are the unique tag keys that out dataset contains. \n",
    ">I'll run ***unique_tag_key_finder.py*** to find the list of unique tag keys. The dataset contains **359** unique tag keys."
   ]
  },
  {
   "cell_type": "markdown",
   "metadata": {},
   "source": [
    "### 4.2 Finding Unusual \"tag\" Keys\n",
    "\n",
    "Now with all this 359 keys, we can try to find the unusual or native ones, specifically not defined in [TagInfo Wiki](http://wiki.openstreetmap.org/wiki/Taginfo/Sources). I also used [List of ISO 639-1 codes](https://en.wikipedia.org/wiki/List_of_ISO_639-1_codes) to verify the sub-category of key called ***name***. \n",
    ">Let us run ***unusual_tag_key_finder.py*** to list all of them."
   ]
  },
  {
   "cell_type": "code",
   "execution_count": null,
   "metadata": {
    "collapsed": true
   },
   "outputs": [],
   "source": [
    "\"\"\"\n",
    "------------------------------------------------------------\n",
    "TAG KEYS WITHOUT/WEAK WIKI IN taginfo: (contains 48 entries)\n",
    "------------------------------------------------------------\n",
    "\"\"\"\n",
    "unusual_tag_key = set(['City', 'PARK', 'via', 'gns:dsg', 'ref:new', 'alt_name:pl', 'ISO3166-2', 'is_capital', 'route_refs', 'foot_1', 'seamark:mooring:colour', 'IRrouterank', 'seamark:construction', 'phone_2', 'phone_3', 'phone_1', 'mini_roundabout', 'from', 'district', 'section', 'kindergarten', 'to', 'Road', 'gns:uni', 'GNS:id', 'taluk', 'Tank', 'seamark:information', 'park', 'building_1', 'abandoned:aeroway', 'name:abbr', 'currency:INR', 'ref:old', 'payment:bitcoin', 'orphanage', 'IR:zone', 'AND_a_nosr_p', 'AND_a_c', 'AND_a_nosr_r', 'place:cca', 'alt_name:eo', 'AND_a_w', 'leisure_1', 'leisure_2', 'seamark:status', 'source:tracer', 'is_in:iso_3166_2'])"
   ]
  },
  {
   "cell_type": "markdown",
   "metadata": {},
   "source": [
    "### 4.3 Grouping and Fixing of Unusual \"tag\" keys according to RegEx Format\n",
    "\n",
    "As we can see, the above list containing 48 keys are not having a wiki, or weakly defined. \n",
    "\n",
    "Let's identify some faulty tag keys based on regular expressions.\n",
    "1. **Case 1:** Presence of any Upper Case Letters (wiki suggests all should be in lowercase)\n",
    "2. **Case 2:** Presence of any special symbols other than \":\" and \"_\"\n",
    "3. **Case 3:** Presence of any colons, [name:en]. We need to fix them for JSON format.\n",
    "4. **Good Keys**: Keys whose format is accepted by OSM wiki.\n",
    "\n",
    ">We will use ***bad_regex_tag_key_finder.py***"
   ]
  },
  {
   "cell_type": "markdown",
   "metadata": {},
   "source": [
    "#### 4.3.1 Fixing Case 1 \"tag\" keys\n",
    "\n",
    "Now we are sure that Case 1 entries are not suggested according to OSM wiki. Before I can suggest changes, I need to get the **sample values of these keys** so that I can manually check them against the [Overpass API](http://overpass-turbo.eu/). \n",
    "\n",
    ">To populate the sample values, I will be running ***unusual_key_value_gen.py***. However I won't display the results here as it will become too clumsy.\n",
    "\n",
    "Here's some data wrangling I want to perform from this group.\n",
    "\n",
    "* Now ['AND_a_c': '10001023'](http://www.openstreetmap.org/way/165014015#map=11/23.0706/88.5333), ['AND_a_nosr_p': '10013997'](http://www.openstreetmap.org/node/3785672730),  ['AND_a_nosr_r': '10013997'](http://www.openstreetmap.org/way/397660190), ['AND_a_w': '15064585'](http://www.openstreetmap.org/way/28573377) all refers to **[AUTOMOTIVE NAVIGATION DATA](https://wiki.openstreetmap.org/wiki/AND_Data)** donated by Netherlands. Although it does not comply with OSM Wiki key guidelines, *I keep it untouched*.\n",
    "* I will keep [currency:INR': 'yes'](http://wiki.openstreetmap.org/wiki/Tag:amenity%3Datm), [GNS:id](http://wiki.openstreetmap.org/wiki/GEOnet_Names_Server) and ISO3166-2 *untouched* as they are already proposed in OSM wiki.\n",
    "* I will *lowercase* **City, PARK, Road**.\n",
    "* I will *rename* **IR** to **indian_railways** in **IR:zone** and **IRrouterank**.\n",
    "* I will *rename* **Tank** to **man_made** and change it's value to **water_tower** as suggested in [OSM wiki (water_tower)](https://wiki.openstreetmap.org/wiki/Tag:man_made%3Dwater_tower).\n",
    "> We will create a dictionary **map_tag_key** and add the key mappings for Case 1, also in **map_tag_value** I will add the new value mappings."
   ]
  },
  {
   "cell_type": "markdown",
   "metadata": {},
   "source": [
    "#### 4.3.2 Fixing Case 2 \"tag\" keys\n",
    "\n",
    "* I will *rename* **[building_1=Wifi](http://www.openstreetmap.org/way/383928062)** to **[internet_access=wlan](http://wiki.openstreetmap.org/wiki/Key:internet_access)**\n",
    "* [OSM wiki](http://wiki.openstreetmap.org/wiki/Multiple_values) strongly discourages use of **numbered suffix**.So, I will *rename* the numbered suffix such as **phone_1**, **phone_2** ... to **phone:1**, **phone:2** ... as discussed in [OSM forums](https://forum.openstreetmap.org/viewtopic.php?id=32037).\n",
    "> I will add these mappings in **map_tag_key** and **map_tag_value**."
   ]
  },
  {
   "cell_type": "markdown",
   "metadata": {},
   "source": [
    "#### 4.3.3 Fixing Case 3 \"tag\" keys\n",
    "\n",
    "* [**payment:bitcoin**](http://wiki.openstreetmap.org/wiki/Bitcoin) is already having an OSM wiki, but *tagsinfo is not updated*. I will keep it.\n",
    "* I will *rename* **name:abbr** to **alt_name**.\n",
    "> I will add these mappings in **map_tag_key** and **map_tag_value**."
   ]
  },
  {
   "cell_type": "markdown",
   "metadata": {},
   "source": [
    "#### 4.3.4 Fixing good \"tag\" keys\n",
    "\n",
    "* I will *rename* **park** to [**leisure=park**](http://wiki.openstreetmap.org/wiki/Tag:leisure%3Dpark). However  there's already a *renaming of PARK  park suggested in 4.3.1*. So, I'll **wrangle** this **in MongoDB** to avoid conflicts.\n",
    "> I will add these mappings in **map_tag_key** and **map_tag_value**."
   ]
  },
  {
   "cell_type": "markdown",
   "metadata": {},
   "source": [
    "## 5. Auditing \"tag\" Values"
   ]
  },
  {
   "cell_type": "markdown",
   "metadata": {},
   "source": [
    "Among many others here are some major erroneous tag values that I found. They are grouped according to their keys.\n",
    "\n",
    "### 5.1 IR:zone\n",
    "Too much **shortening** of data and using **non-conventional form** as described in OSM wiki.\n",
    "* *\"ER\" → \"eastern_railway\"*.\n",
    "> Fixed using function called **fix_irzone**.\n",
    "\n",
    "### 5.2 PARK\n",
    "The values are often in a **mixed case format**. Uniformity can be maintained.\n",
    "* The values are converted to **change_case_Aa**.\n",
    "> Fixed using function called **fix_park**.\n",
    "\n",
    "### 5.3 access\n",
    "The values are often in a **mixed case format**. Uniformity can be maintained.\n",
    "* The value are converted to **change_case_lower**.\n",
    "> Fixed using function called **fix_lowercase**.\n",
    "\n",
    "### 5.4 addr:city\n",
    "The values are often in a **mixed case format**. There are several **near-similar ambiguous** entries. **Too much details** for a city, ex: state also provided and there are also **spelling mistakes**.\n",
    "* The values are converted to **change_case_Aa**.\n",
    "* *\"DUM DUM CANTT.,KOLKATA\" → \"Dum Dum Cantonment, Kolkata\"*\n",
    "* *\"Kolkata, West Bengal\" → \"Kolkata\"*\n",
    "* *\"New Town\", \"New Town, Kolkata\", \"Newtown, Kolkata\", \"Rajarhat\", → \"New Town, Rajarhat\" *\n",
    "* *\"Salt Lake\", \"Salt Lake City, Kolkata\", \"Saltlake (Bidhannagar)\" → \"Salt Lake (Bidhannagar)\"*\n",
    "* *\"Kolkatta\" → \"Kolkata\"*\n",
    "> Fixed using function called **fix_addr_city**.\n",
    "\n",
    "### 5.5 addr:housename\n",
    "There are **non-uniform abbreviations**, as well the values are often in a **mixed case format**.\n",
    "* *\"WB\" → \"West Bengal\"*\n",
    "* The values which are not part of house number are converted to **change_case_Aa**.\n",
    "> Fixed using function called **fix_addr_housename**.\n",
    "\n",
    "\n",
    "### 5.6 addr:housenumber\n",
    "The values are often in a **mixed case format** and contains meaningless **unicode** characters and **special** characters.\n",
    "* Remove Unicode Chars\n",
    "* Remove Special Chars other than \"/\\,-&.\"\n",
    "> Fixed using function called **fix_addr_housenumber**.\n",
    "\n",
    "### 5.7 addr:postcode\n",
    "Indian postal codes have 6 digits. Postal code for Kolkata is mainly 700xxx.Now, there are certain entries with the 6 digits **grouped** in 3s and **separated by space**. Now it is also a common mistake many people make is give wrong number of zeros. Either they give one less or one more.\n",
    "* Join if separated by space\n",
    "* Inflate 0 if len < 7\n",
    "* Deflate 0 if len > 7\n",
    "* Remove unicode\n",
    "* error: '7000 026', '700 050', '700 156' '70014'\n",
    "> Fixed using function called **fix_addr_postcode**.\n",
    "\n",
    "### 5.8 'addr:state':\n",
    "There are **non-uniform abbreviations**.\n",
    "* *\"WB\" → \"West Bengal\"*\n",
    "> Fixed using function called **fix_addr_state**.\n",
    "\n",
    "### 5.9 addr:street\n",
    "There are **ambiguous entries** for same street. **Abbreviated** usage of **Lanes (ln)** and **Road (rd)**. **Incorrect spelling**s of road. \n",
    "* *\"A. J. C. Bose Road\", \"Acharya Jagadish Chandra Bose Road\", → \"AJC Bose Road\"*\n",
    "* Karbala Tank Ln → Karbala Tank Lane\n",
    "* Barrackpore Trunk → Rd Barrackpore Trunk Road\n",
    "* D.r A.k paul raod\n",
    "> Fixed using function called **fix_addr_street**.\n",
    "\n",
    "### 5.10 brand\n",
    "There are **incorrect** brand names (missing spaces or indicating an amenity).\n",
    "* *\"IndianOil\" → \"Indian Oil\"*\n",
    "* *\"State Bank of India ATM\" → \"State Bank of India\"*\n",
    "> Fixed using function called **fix_brand**.\n",
    "\n",
    "There are **some other** minor data cleaning for some keys. I have **not documented** them here, however ***functions.py*** contains all the helper functions to wrangle the values.\n"
   ]
  },
  {
   "cell_type": "markdown",
   "metadata": {},
   "source": [
    "## 6. Preparation for Data Analysis"
   ]
  },
  {
   "cell_type": "markdown",
   "metadata": {},
   "source": [
    "Once we have finished auditing the data, we need to create a JSON file for insertion into MongoDB for data analysis. I have coded ***json_maker.py*** for that purpose. The JSON file abides the following rules.\n",
    "\n",
    "- Only 2 types of top level tags: \"node\" and \"way\" is processed\n",
    "- All attributes of \"node\" and \"way\" is turned into regular key/value pairs, except:\n",
    "    - attributes in the CREATED array is added under a key \"created\"\n",
    "    - attributes for latitude and longitude is added to a \"pos\" array for use in geo-spacial indexing. The values inside \"pos\" array are floats and not strings. \n",
    "- if the second level tag \"k\" value contains problematic characters, it is ignored\n",
    "- if the second level tag \"k\" value starts with \"addr:\", it is added to a dictionary \"address\"\n",
    "- if the second level tag \"k\" value does not start with \"addr:\", but contains \":\",it is split it into a two-level dictionary.\n",
    "\n",
    "The python script creates a file called custom_kolkata.osm.json in  ***./maps_uncompressed***.\n",
    "\n",
    "Once this is done, I have used the following code to import the data in MongoDB"
   ]
  },
  {
   "cell_type": "code",
   "execution_count": null,
   "metadata": {
    "collapsed": true
   },
   "outputs": [],
   "source": [
    "mongoimport --db OSM --collection kolkata --file custom_kolkata.osm.json"
   ]
  },
  {
   "cell_type": "markdown",
   "metadata": {},
   "source": [
    "We can now use the queries of ***mongo_test_commands.txt*** in mongo shell to check if the entries in MongoDB are as expected."
   ]
  },
  {
   "cell_type": "markdown",
   "metadata": {},
   "source": [
    "## 7. Data Wrangling in MongoDB"
   ]
  },
  {
   "cell_type": "markdown",
   "metadata": {},
   "source": [
    "Now we have an unfinished job. We have to wrangle ***park***  into ***leisure: park***. It's best to use mongo shell queries to perform this wrangling. The following query updates this key-pair value."
   ]
  },
  {
   "cell_type": "code",
   "execution_count": null,
   "metadata": {
    "collapsed": true
   },
   "outputs": [],
   "source": [
    "db.kolkata.update(\n",
    "    {\"park\": {\"$exists\": 1}},\n",
    "    {\n",
    "        \"$unset\":\n",
    "            {\"park\": \"\"},\n",
    "        \"$set\":\n",
    "            {\"leisure\": \"park\"}\n",
    "    },\n",
    "    {multi: true}\n",
    ")"
   ]
  },
  {
   "cell_type": "markdown",
   "metadata": {},
   "source": [
    "## 8. Data Analysis with MongoDB"
   ]
  },
  {
   "cell_type": "markdown",
   "metadata": {},
   "source": [
    "### 8.1 Data Size\n",
    "We can have a brief statistics of the used space in MongoDB for this collection. We'll also discuss about the other file sizes in the obeservation.\n",
    "#### 8.1.1 Query"
   ]
  },
  {
   "cell_type": "code",
   "execution_count": null,
   "metadata": {
    "collapsed": true
   },
   "outputs": [],
   "source": [
    "> db.kolkata.dataSize()"
   ]
  },
  {
   "cell_type": "markdown",
   "metadata": {},
   "source": [
    "#### 8.1.2 Output"
   ]
  },
  {
   "cell_type": "code",
   "execution_count": null,
   "metadata": {
    "collapsed": true
   },
   "outputs": [],
   "source": [
    "888513656"
   ]
  },
  {
   "cell_type": "markdown",
   "metadata": {},
   "source": [
    "> **Observation**: This states the size of the collection (~888.5 MB) which is bigger than the JSON (~818.8 MB) as well as the actual OSM (~680.5 MB) and the sample (~8.1 MB)."
   ]
  },
  {
   "cell_type": "markdown",
   "metadata": {},
   "source": [
    "### 8.2 Total Records\n",
    "This will help us to understand how many documents we have and if document type (node/way) sums up to this number.\n",
    "#### 8.2.1 Query"
   ]
  },
  {
   "cell_type": "code",
   "execution_count": null,
   "metadata": {
    "collapsed": true
   },
   "outputs": [],
   "source": [
    "> db.kolkata.count()"
   ]
  },
  {
   "cell_type": "markdown",
   "metadata": {},
   "source": [
    "#### 8.2.2 Output"
   ]
  },
  {
   "cell_type": "code",
   "execution_count": null,
   "metadata": {
    "collapsed": true
   },
   "outputs": [],
   "source": [
    "3740080"
   ]
  },
  {
   "cell_type": "markdown",
   "metadata": {},
   "source": [
    "> **Observation**: This shows the total number of documents present in the collection."
   ]
  },
  {
   "cell_type": "markdown",
   "metadata": {},
   "source": [
    "### 8.3 Unique Users\n",
    "Using this analysis will give an insight on the active participation of users.\n",
    "#### 8.3.1 Query"
   ]
  },
  {
   "cell_type": "code",
   "execution_count": null,
   "metadata": {
    "collapsed": true
   },
   "outputs": [],
   "source": [
    "> db.kolkata.distinct(\"created.user\").length"
   ]
  },
  {
   "cell_type": "markdown",
   "metadata": {},
   "source": [
    "#### 8.3.2 Output"
   ]
  },
  {
   "cell_type": "code",
   "execution_count": null,
   "metadata": {
    "collapsed": true
   },
   "outputs": [],
   "source": [
    "582"
   ]
  },
  {
   "cell_type": "markdown",
   "metadata": {},
   "source": [
    "> **Observation**: This shows quite a high number of contributing users."
   ]
  },
  {
   "cell_type": "markdown",
   "metadata": {},
   "source": [
    "### 8.4 Total Nodes\n",
    "Simple analysis to see how many nodes are created to represent this map.\n",
    "#### 8.4.1 Query"
   ]
  },
  {
   "cell_type": "code",
   "execution_count": null,
   "metadata": {
    "collapsed": true
   },
   "outputs": [],
   "source": [
    "> db.kolkata.find({element_type: \"node\"}).count()"
   ]
  },
  {
   "cell_type": "markdown",
   "metadata": {},
   "source": [
    "#### 8.4.2 Output"
   ]
  },
  {
   "cell_type": "code",
   "execution_count": null,
   "metadata": {
    "collapsed": true
   },
   "outputs": [],
   "source": [
    "3100069"
   ]
  },
  {
   "cell_type": "markdown",
   "metadata": {},
   "source": [
    "> **Observation**: This shows total number of nodes."
   ]
  },
  {
   "cell_type": "markdown",
   "metadata": {},
   "source": [
    "### 8.5 Total Ways\n",
    "This will show total number of ways discovered and marked in OSM for Kolkata.\n",
    "#### 8.5.1 Query"
   ]
  },
  {
   "cell_type": "code",
   "execution_count": null,
   "metadata": {
    "collapsed": true
   },
   "outputs": [],
   "source": [
    "> db.kolkata.find({element_type: \"way\"}).count()"
   ]
  },
  {
   "cell_type": "markdown",
   "metadata": {},
   "source": [
    "#### 8.5.2 Output"
   ]
  },
  {
   "cell_type": "code",
   "execution_count": null,
   "metadata": {
    "collapsed": true
   },
   "outputs": [],
   "source": [
    "640011"
   ]
  },
  {
   "cell_type": "markdown",
   "metadata": {},
   "source": [
    "> **Observation**: Adding up total nodes and ways we get back total documents. This means there's no document without an ***element_type***. That's good."
   ]
  },
  {
   "cell_type": "markdown",
   "metadata": {},
   "source": [
    "### 8.6 Top 6 Amenities\n",
    "We can have an insight into the culture of the people and their interest in Kolkata.\n",
    "#### 8.6.1 Query"
   ]
  },
  {
   "cell_type": "code",
   "execution_count": null,
   "metadata": {
    "collapsed": true
   },
   "outputs": [],
   "source": [
    "> db.kolkata.aggregate([\n",
    "    {\"$match\": {\"amenity\": { \"$exists\": 1}}},\n",
    "    {\"$group\": {\"_id\": \"$amenity\", \"count\": {\"$sum\": 1}}},\n",
    "    {\"$sort\": {\"count\": -1}},\n",
    "    {\"$limit\": 6}],\n",
    "    {allowDiskUse: true}\n",
    ")"
   ]
  },
  {
   "cell_type": "markdown",
   "metadata": {},
   "source": [
    "#### 8.6.2 Output"
   ]
  },
  {
   "cell_type": "code",
   "execution_count": null,
   "metadata": {
    "collapsed": true
   },
   "outputs": [],
   "source": [
    "{ \"_id\" : \"school\", \"count\" : 175 }\n",
    "{ \"_id\" : \"place_of_worship\", \"count\" : 111 }\n",
    "{ \"_id\" : \"restaurant\", \"count\" : 101 }\n",
    "{ \"_id\" : \"hospital\", \"count\" : 95 }\n",
    "{ \"_id\" : \"bank\", \"count\" : 91 }\n",
    "{ \"_id\" : \"college\", \"count\" : 70 }"
   ]
  },
  {
   "cell_type": "markdown",
   "metadata": {},
   "source": [
    "> **Observation**: That's a good trend. The state ministry's claims of attempts to improve the literacy rates can be justified with so many schools and colleges set up.\n",
    "\n",
    "> Bengalis are no doubt [religious](https://www.quora.com/What-is-the-genetic-history-and-origin-of-Bengali-people) and [foodie](https://www.quora.com/Why-do-Bengalis-love-to-eat-so-much) and we can see that too."
   ]
  },
  {
   "cell_type": "markdown",
   "metadata": {},
   "source": [
    "### 8.7 Top 10 Users and their Percentage\n",
    "This analysis can predict the confidence of the data submitted.\n",
    "#### 8.7.1 Query"
   ]
  },
  {
   "cell_type": "code",
   "execution_count": null,
   "metadata": {
    "collapsed": true
   },
   "outputs": [],
   "source": [
    "> var total = db.kolkata.find({\"created.user\" : {\"$exists\": 1}}).count();\n",
    "db.kolkata.aggregate([\n",
    "    {\"$match\": {\"created.user\": { \"$exists\": 1}}},\n",
    "    {\"$group\": {\"_id\": \"$created.user\", \"count\": {\"$sum\": 1}}},\n",
    "    {\"$project\": {\n",
    "        \"count\":1,\n",
    "        \"percentage\": {\"$multiply\": [100, {\"$divide\": [\"$count\", total]}]}}},\n",
    "    {\"$sort\": {\"count\": -1}},\n",
    "    {\"$limit\": 10}],\n",
    "    {allowDiskUse: true}\n",
    ")"
   ]
  },
  {
   "cell_type": "markdown",
   "metadata": {},
   "source": [
    "#### 8.7.2 Output"
   ]
  },
  {
   "cell_type": "code",
   "execution_count": null,
   "metadata": {
    "collapsed": true
   },
   "outputs": [],
   "source": [
    "{ \"_id\" : \"Rondon237\", \"count\" : 222867, \"percentage\" : 5.958883232444226 }\n",
    "{ \"_id\" : \"saikumar\", \"count\" : 129408, \"percentage\" : 3.4600329404718617 }\n",
    "{ \"_id\" : \"samuelmj\", \"count\" : 122381, \"percentage\" : 3.272149258839383 }\n",
    "{ \"_id\" : \"Apreethi\", \"count\" : 120552, \"percentage\" : 3.2232465615708756 }\n",
    "{ \"_id\" : \"anthony1\", \"count\" : 105324, \"percentage\" : 2.816089495411863 }\n",
    "{ \"_id\" : \"harisha\", \"count\" : 91874, \"percentage\" : 2.4564715193257896 }\n",
    "{ \"_id\" : \"venugopal009\", \"count\" : 90498, \"percentage\" : 2.419680862441445 }\n",
    "{ \"_id\" : \"jasvinderkaur\", \"count\" : 87910, \"percentage\" : 2.3504844816153665 }\n",
    "{ \"_id\" : \"shiva05\", \"count\" : 86632, \"percentage\" : 2.3163140895381917 }\n",
    "{ \"_id\" : \"ravikumar1\", \"count\" : 82775, \"percentage\" : 2.213187953198862 }"
   ]
  },
  {
   "cell_type": "markdown",
   "metadata": {},
   "source": [
    "> **Observation**: The data shows quite a decent distribution of contribution among the **582** users. This means the data is not solely dependent on a particular user but to a mass in general. So, the confidence of the data can be concluded to be high."
   ]
  },
  {
   "cell_type": "markdown",
   "metadata": {},
   "source": [
    "### 8.8 Top 10 Data Source and their Percentage\n",
    "We can get an insight into how the data is acquired.\n",
    "#### 8.8.1 Query"
   ]
  },
  {
   "cell_type": "code",
   "execution_count": null,
   "metadata": {
    "collapsed": true
   },
   "outputs": [],
   "source": [
    "> var total = db.kolkata.find({\"source\" : {\"$exists\": 1}}).count();\n",
    "db.kolkata.aggregate([\n",
    "    {\"$match\": {\"source\": { \"$exists\": 1}}},\n",
    "    {\"$group\": {\"_id\": \"$source\", \"count\": {\"$sum\": 1}}},\n",
    "    {\"$project\": {\n",
    "        \"count\":1,\n",
    "        \"percentage\": {\"$multiply\": [100, {\"$divide\": [\"$count\", total]}]}}},\n",
    "    {\"$sort\": {\"count\": -1}},\n",
    "    {\"$limit\": 10}],\n",
    "    {allowDiskUse: true}\n",
    ")"
   ]
  },
  {
   "cell_type": "markdown",
   "metadata": {},
   "source": [
    "#### 8.8.2 Output"
   ]
  },
  {
   "cell_type": "code",
   "execution_count": null,
   "metadata": {
    "collapsed": true
   },
   "outputs": [],
   "source": [
    "{ \"_id\" : \"PGS\", \"count\" : 2929, \"percentage\" : 53.26422985997454 }\n",
    "{ \"_id\" : \"Bing\", \"count\" : 1798, \"percentage\" : 32.69685397344972 }\n",
    "{ \"_id\" : \"Yahoo hires\", \"count\" : 319, \"percentage\" : 5.80105473722495 }\n",
    "{ \"_id\" : \"AND\", \"count\" : 180, \"percentage\" : 3.273322422258593 }\n",
    "{ \"_id\" : \"GPS\", \"count\" : 152, \"percentage\" : 2.7641389343517 }\n",
    "{ \"_id\" : \"Survey\", \"count\" : 29, \"percentage\" : 0.5273686124749954 }\n",
    "{ \"_id\" : \"bing\", \"count\" : 17, \"percentage\" : 0.30914711765775593 }\n",
    "{ \"_id\" : \"Bing HiRes\", \"count\" : 15, \"percentage\" : 0.27277686852154936 }\n",
    "{ \"_id\" : \"survey\", \"count\" : 11, \"percentage\" : 0.20003637024913623 }\n",
    "{ \"_id\" : \"landsat\", \"count\" : 8, \"percentage\" : 0.14548099654482632 }"
   ]
  },
  {
   "cell_type": "markdown",
   "metadata": {},
   "source": [
    "> **Observation**: This shows how data is acquired. Data from GPS seems very low (~2.7%). However if data is collected from GPS when in transit, more roads can be discovered automatically.\n",
    "\n",
    "> Example: If the system gets data above a minimum threshold (say 100) for a particular sequence of unlisted GPS co-ordinates from different devices, we may conclude that the sequence is a way which is not auto-identified from image processing algorithms (maybe due to trees above the road as satellite images see it)."
   ]
  },
  {
   "cell_type": "markdown",
   "metadata": {},
   "source": [
    "### 8.9 Top 5 Cuisines\n",
    "Now with this analysis we can see find out what's the trend of Bengalis when they hang out in restaurants (which seemed a pretty popular amenity in the city). This can be an useful information for people who wants to enter the business and can decide which cuisine to focus on.\n",
    "#### 8.9.1 Query"
   ]
  },
  {
   "cell_type": "code",
   "execution_count": null,
   "metadata": {
    "collapsed": true
   },
   "outputs": [],
   "source": [
    "db.kolkata.aggregate([\n",
    "    {\"$match\": {\"cuisine\": { \"$exists\": 1}}},\n",
    "    {\"$group\": {\"_id\": \"$cuisine\", \"count\": {\"$sum\": 1}}},\n",
    "    {\"$sort\": {\"count\": -1}},\n",
    "    {\"$limit\": 5}],\n",
    "    {allowDiskUse: true}\n",
    ")"
   ]
  },
  {
   "cell_type": "markdown",
   "metadata": {},
   "source": [
    "#### 8.9.2 Output"
   ]
  },
  {
   "cell_type": "code",
   "execution_count": null,
   "metadata": {
    "collapsed": true
   },
   "outputs": [],
   "source": [
    "{ \"_id\" : \"indian\", \"count\" : 29 }\n",
    "{ \"_id\" : \"regional\", \"count\" : 4 }\n",
    "{ \"_id\" : \"multicuisine\", \"count\" : 3 }\n",
    "{ \"_id\" : \"chinese\", \"count\" : 3 }\n",
    "{ \"_id\" : \"international\", \"count\" : 3 }"
   ]
  },
  {
   "cell_type": "markdown",
   "metadata": {},
   "source": [
    "> **Observation**: We can clearly see that Indian cuisine is the most popular in Bengal followed by Chinese. However a more detailed cuisine (North Indian, South Indian, Bengali, Gujrati etc) can make the restaurants more accurate and search-friendly. I have a feeling that many restaurants don't have a cuisine defined for them.  \n",
    "\n",
    "#### 8.9.3 Restaurants without cuisine\n",
    "However the data here in OSM seems unclear. Let's investigate a bit more.\n",
    "#### 8.9.3.1 Query"
   ]
  },
  {
   "cell_type": "code",
   "execution_count": null,
   "metadata": {
    "collapsed": true
   },
   "outputs": [],
   "source": [
    "db.kolkata.find({\"$and\": [{\"amenity\": \"restaurant\"}, {\"cuisine\": {\"$exists\": 0}}]}).count()"
   ]
  },
  {
   "cell_type": "markdown",
   "metadata": {},
   "source": [
    "#### 8.9.3.2 Output"
   ]
  },
  {
   "cell_type": "code",
   "execution_count": null,
   "metadata": {
    "collapsed": true
   },
   "outputs": [],
   "source": [
    "60"
   ]
  },
  {
   "cell_type": "markdown",
   "metadata": {},
   "source": [
    "> **Observation**: Well, it seems that I'm correct. Most of the restaurants don't have a cuisine for them. So intelligent searches such as \"Find South-Indian restaurants near me\" won't be of much use for OSM in Kolkata.\n",
    "\n",
    "> This can solved with review features like **Question-Answers** for places like restaurants. If users are given points for contribution, they may take the interest to fill out these small details to showcase their contribution level.\n",
    "\n",
    "> However an **anticipated problem** for this improvement is QAs may not be always uniform for all countries. Example: *Salad bars* or *drinks* are **not** absent in 90% Bengal restaurants. But they maybe an important feature for other countries/regions. So, repetitive QAs demanding to answer if Kolkata restaurants have *Salad bars* or *drinks* can be irritating."
   ]
  },
  {
   "cell_type": "markdown",
   "metadata": {},
   "source": [
    "### 8.10 Religion and their Percentage\n",
    "We can try to draw a symmetry of religion present in Kolkata and the trend as shown by OSM.\n",
    "#### 8.10.1 Query"
   ]
  },
  {
   "cell_type": "code",
   "execution_count": null,
   "metadata": {
    "collapsed": true
   },
   "outputs": [],
   "source": [
    "> var total = db.kolkata.find({\"religion\" : {\"$exists\": 1}}).count();\n",
    "db.kolkata.aggregate([\n",
    "    {\"$match\": {\"religion\": { \"$exists\": 1}}},\n",
    "    {\"$group\": {\"_id\": \"$religion\", \"count\": {\"$sum\": 1}}},\n",
    "    {\"$project\": {\n",
    "        \"count\":1,\n",
    "        \"percentage\": {\"$multiply\": [100, {\"$divide\": [\"$count\", total]}]}}},\n",
    "    {\"$sort\": {\"count\": -1}}],\n",
    "    {allowDiskUse: true}\n",
    ")"
   ]
  },
  {
   "cell_type": "markdown",
   "metadata": {},
   "source": [
    "#### 8.10.2 Output"
   ]
  },
  {
   "cell_type": "code",
   "execution_count": null,
   "metadata": {
    "collapsed": true
   },
   "outputs": [],
   "source": [
    "{ \"_id\" : \"hindu\", \"count\" : 38, \"percentage\" : 42.22222222222222 }\n",
    "{ \"_id\" : \"christian\", \"count\" : 25, \"percentage\" : 27.77777777777778 }\n",
    "{ \"_id\" : \"muslim\", \"count\" : 13, \"percentage\" : 14.444444444444443 }\n",
    "{ \"_id\" : \"buddhist\", \"count\" : 8, \"percentage\" : 8.88888888888889 }\n",
    "{ \"_id\" : \"jain\", \"count\" : 3, \"percentage\" : 3.3333333333333335 }\n",
    "{ \"_id\" : \"jewish\", \"count\" : 2, \"percentage\" : 2.2222222222222223 }\n",
    "{ \"_id\" : \"sikh\", \"count\" : 1, \"percentage\" : 1.1111111111111112 }"
   ]
  },
  {
   "cell_type": "markdown",
   "metadata": {},
   "source": [
    "> **Observation**: This output misleading. Undoubtedly Kolkata has the maximum Hindus. However as we see Christians are ranked second is not the case. Kolkata has more Muslims and more mosques than churches. This points out that either they are not pointed out or there is some kind of biasness among the users.\n",
    "\n",
    ">However this data clearly shows India and specifically Kolkata has diverse religions and praises its secularity."
   ]
  },
  {
   "cell_type": "markdown",
   "metadata": {},
   "source": [
    "### 8.11 Most and Least Discovered areas\n",
    "We may try to find if there's any particular region in Kolkata that map-pointers have pointed out more frequently with minute details such as postcode. Also we can reverse it to find those areas which have not been explored so much or miss the details.\n",
    "#### 8.11.1 Query"
   ]
  },
  {
   "cell_type": "code",
   "execution_count": null,
   "metadata": {
    "collapsed": true
   },
   "outputs": [],
   "source": [
    "> var total = db.kolkata.find({\"address.postcode\" : {\"$exists\": 1}}).count();\n",
    "> db.kolkata.aggregate([\n",
    "    {\"$match\": {\"address.postcode\": { \"$exists\": 1}}},\n",
    "    {\"$group\": {\"_id\": \"$address.postcode\", \"count\": {\"$sum\": 1}}},\n",
    "    {\"$project\": {\n",
    "        \"count\":1,\n",
    "        \"percentage\": {\"$multiply\": [100, {\"$divide\": [\"$count\", total]}]}}},\n",
    "    {\"$sort\": {\"count\": -1}},\n",
    "    {\"$limit\": 5}],\n",
    "    {allowDiskUse: true}\n",
    ")\n",
    "\n",
    "> db.kolkata.aggregate([\n",
    "    {\"$match\": {\"address.postcode\": { \"$exists\": 1}}},\n",
    "    {\"$group\": {\"_id\": \"$address.postcode\", \"count\": {\"$sum\": 1}}},\n",
    "    {\"$project\": {\n",
    "        \"count\":1,\n",
    "        \"percentage\": {\"$multiply\": [100, {\"$divide\": [\"$count\", total]}]}}},\n",
    "    {\"$match\": {\"count\": {\"$eq\": 1}}},\n",
    "    {\"$limit\": 10}],\n",
    "    {allowDiskUse: true}\n",
    ")"
   ]
  },
  {
   "cell_type": "markdown",
   "metadata": {},
   "source": [
    "#### 8.11.2 Output (most discovered)"
   ]
  },
  {
   "cell_type": "code",
   "execution_count": null,
   "metadata": {
    "collapsed": true
   },
   "outputs": [],
   "source": [
    "{ \"_id\" : \"700064\", \"count\" : 911, \"percentage\" : 65.49245147375989 }\n",
    "{ \"_id\" : \"741235\", \"count\" : 71, \"percentage\" : 5.104241552839683 }\n",
    "{ \"_id\" : \"743363\", \"count\" : 57, \"percentage\" : 4.097771387491013 }\n",
    "{ \"_id\" : \"712306\", \"count\" : 31, \"percentage\" : 2.2286125089863407 }\n",
    "{ \"_id\" : \"700107\", \"count\" : 22, \"percentage\" : 1.5815959741193386 }"
   ]
  },
  {
   "cell_type": "markdown",
   "metadata": {},
   "source": [
    "#### 8.11.3 Output (least discovered)"
   ]
  },
  {
   "cell_type": "code",
   "execution_count": null,
   "metadata": {
    "collapsed": true
   },
   "outputs": [],
   "source": [
    "{ \"_id\" : \"700001\", \"count\" : 1, \"percentage\" : 0.07189072609633358 }\n",
    "{ \"_id\" : \"700003\", \"count\" : 1, \"percentage\" : 0.07189072609633358 }\n",
    "{ \"_id\" : \"700040\", \"count\" : 1, \"percentage\" : 0.07189072609633358 }\n",
    "{ \"_id\" : \"700124\", \"count\" : 1, \"percentage\" : 0.07189072609633358 }\n",
    "{ \"_id\" : \"721134\", \"count\" : 1, \"percentage\" : 0.07189072609633358 }\n",
    "{ \"_id\" : \"700028\", \"count\" : 1, \"percentage\" : 0.07189072609633358 }\n",
    "{ \"_id\" : \"700145\", \"count\" : 1, \"percentage\" : 0.07189072609633358 }\n",
    "{ \"_id\" : \"712248\", \"count\" : 1, \"percentage\" : 0.07189072609633358 }\n",
    "{ \"_id\" : \"721603\", \"count\" : 1, \"percentage\" : 0.07189072609633358 }\n",
    "{ \"_id\" : \"700095\", \"count\" : 1, \"percentage\" : 0.07189072609633358 }"
   ]
  },
  {
   "cell_type": "markdown",
   "metadata": {},
   "source": [
    "> **Observation**: I was a bit curios to know if the users preferred any particular region for map-pointing. I find the highest pincode recorded is for [BidhanNagar](https://www.google.co.in/maps/place/Salt+Lake+City,+Kolkata,+West+Bengal+700064/@22.5886106,88.4061628,15z/data=!4m5!3m4!1s0x3a0275db63029127:0x1ffc973fa16fd18!8m2!3d22.5924571!4d88.412665) (Kolkata 700064). However there's no reason for heavy pointing in this region. This place is not so important. I like to see distribution of users for marking this postcode.\n",
    "\n",
    "#### 8.11.4 Distribution of users in address.postcode = 700064\n",
    "If we see the contribution of various users in this place, then it must be really some important place I don't know of. However if there's not a varying distribution, then we can say that someone made detailed discoveries in this particular area only.\n",
    "#### 8.11.4.1 Query"
   ]
  },
  {
   "cell_type": "code",
   "execution_count": null,
   "metadata": {
    "collapsed": true
   },
   "outputs": [],
   "source": [
    "> db.kolkata.aggregate([\n",
    "    {\"$match\": {\"address.postcode\": \"700064\"}},\n",
    "    {\"$group\": {\"_id\": \"$created.user\", \"count\": {\"$sum\": 1}}},\n",
    "    {\"$project\": {\n",
    "        \"count\":1}},\n",
    "    {\"$sort\": {\"count\": -1}}],\n",
    "    {allowDiskUse: true}\n",
    ")"
   ]
  },
  {
   "cell_type": "markdown",
   "metadata": {},
   "source": [
    "#### 8.11.4.2 Output"
   ]
  },
  {
   "cell_type": "code",
   "execution_count": null,
   "metadata": {
    "collapsed": true
   },
   "outputs": [],
   "source": [
    "{ \"_id\" : \"Japa\", \"count\" : 490 }\n",
    "{ \"_id\" : \"sujandeb\", \"count\" : 406 }\n",
    "{ \"_id\" : \"Narsimulu\", \"count\" : 12 }\n",
    "{ \"_id\" : \"Pc2\", \"count\" : 1 }\n",
    "{ \"_id\" : \"dazz99\", \"count\" : 1 }\n",
    "{ \"_id\" : \"Oberaffe\", \"count\" : 1 }"
   ]
  },
  {
   "cell_type": "markdown",
   "metadata": {},
   "source": [
    "> **Observation**: This clearly demonstrates that the users *Japa* and *sujandeb* are contributors who know this place very well (and possibly live there) and that's why have pointed out the details."
   ]
  },
  {
   "cell_type": "markdown",
   "metadata": {},
   "source": [
    "## 9. Conclusion"
   ]
  },
  {
   "cell_type": "markdown",
   "metadata": {},
   "source": [
    "Here in this project I have audited, cleaned and analyzed OpenStreetMap data for Kolkata, West Bengal, India. What I have found during the process was many excess, deprecated tags without proper wiki. \n",
    "\n",
    "### 9.1 Ideas for additional improvements\n",
    "\n",
    "Now I got curious to know how actually places are created in OSM. I can easily create **any key** without those listed in the dropdown. The screenshot makes it clear.\n",
    "\n",
    "![title](../Screenshots/1.png)\n",
    "\n",
    "Now you can easily find my edit in OSM (if still available) in this [link](https://www.openstreetmap.org/way/519564562). Here's a screenshot showing my update is live.\n",
    "![title](../Screenshots/2.png)\n",
    "\n",
    "So, what I think is, OSM should not allow creation of **any tag** and be reserved to some extent. Since this organization is community-driven, it is good to have a review policy (from high contributing users of that locality) to make things more accurate. Also various issues that I faced like variation in letter-cases, abbreviation of street names, states, brands can be nullified with some simple hints and validations before actual entry in the database. Anomaly in postcodes can be eliminated by hinting users of nearby postcodes (so that in cases of hit, it can be auto-filled) and before entry validating the digit-count defined in that country. Also there is no need to store redundant data like country, state, city for every node if it's latitude and longitude falls within the area defined by the respective country, state and city\n",
    ").\n",
    "\n",
    "Now a relative competitor to this **editable** feature of OSM is **Google Local Guides** program that is though not much flexible but attracts more users due to their **rewards** (level-based). This can be used as a motivating factor for more contributions to OSM.\n",
    "\n",
    "Also I found [tagsinfo](https://taginfo.openstreetmap.org/) really helpful. But if there are specific tags that a particular country is using, (like **IR:zone** means **Indian Railways - zone**) proper wiki should be provided before the usage. This makes OSM more documented and understandable.\n",
    "\n",
    "### 9.2 Anticipated problems in implementing the improvements\n",
    "\n",
    "* ***The idea of getting an edit reviewed by some high-contributing user may not always work***\n",
    "    \n",
    "    Example: Some users who has a large number of edits does not necessarily means that he knows my neighborhood better than me. He might reject my edits to a road or cell number of a store. It is not quite feasible that each and every edit is being reviewed with justice. I badly want to give an example to demonstrate the negative effects of getting every edit reviewed in Google LG program. Although I know my locality best and have given the best possible suggestions, they are not approved. \n",
    "\n",
    "![title](../Screenshots/3.png)\n",
    "\n",
    "* ***There can be collisions of edits/creation of new places if they had to pass through a review queue***\n",
    "\n",
    "    Example: Suppose there's an opening of a new shop. The business owner might have created a node for his shop. Now, it is obvious I won't be knowing this and suppose I re-create the same place. Well the system won't reject it if there's some variation in name. The owner created with \"ABC & sons Pvt Ltd.\" while I did with \"ABC\". Now? Duplication of same place will happen and again another request for removal of duplicate entry needs to be addressed.\n",
    "    \n",
    "    \n",
    "* ***However be the proposals of new tags are administered, it still possess the risk of ether being absurd or rejected***\n",
    "\n",
    "    Example: Even I did not understand the meaning of IR:zone until I saw the combination of its values like ER (Eastern Railway), SER (South-Eastern Railway) and so on. Now this things if administered from outside India may be rejected due to lack of clarity and it's acceptable. However \"THANA_NAME\" is unique for Bangladesh and equivalent to our district. Now if they are forced to use district, then it destroys the whole idea of localization.\n",
    "    \n",
    "    \n",
    "* ***To the best of my knowledge, redundancy and validation improvements can be carried out without any problems***\n",
    "\n",
    "    At least in Kolkata all postal-codes are solid polygonal areas and mutually exclusive. Now if they are not solid and have holes (of other postal-codes) in them then it may be hard to implement but if not mutually exclusive then, it's impossible.\n",
    "\n",
    "    However if the data is collected from individual then it may be prone to errors. Best demarcations can be provided by the Municipality."
   ]
  },
  {
   "cell_type": "markdown",
   "metadata": {},
   "source": [
    "## 10. References"
   ]
  },
  {
   "cell_type": "markdown",
   "metadata": {},
   "source": [
    "* https://www.stackoverflow.com\n",
    "* https://www.datacamp.com\n",
    "* https://taginfo.openstreetmap.org\n",
    "* https://www.overpass-turbo.eu\n",
    "* https://www.openstreetmap.org\n",
    "* https://en.wikipedia.org\n",
    "* https://mapzen.com/"
   ]
  }
 ],
 "metadata": {
  "kernelspec": {
   "display_name": "Python [conda env:dand_trial_env]",
   "language": "python",
   "name": "conda-env-dand_trial_env-py"
  },
  "language_info": {
   "codemirror_mode": {
    "name": "ipython",
    "version": 2
   },
   "file_extension": ".py",
   "mimetype": "text/x-python",
   "name": "python",
   "nbconvert_exporter": "python",
   "pygments_lexer": "ipython2",
   "version": "2.7.13"
  }
 },
 "nbformat": 4,
 "nbformat_minor": 2
}
